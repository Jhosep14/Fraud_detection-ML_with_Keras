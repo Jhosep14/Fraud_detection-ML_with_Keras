{
 "cells": [
  {
   "cell_type": "markdown",
   "id": "19f1f48e",
   "metadata": {},
   "source": [
    "# Project Overview"
   ]
  },
  {
   "cell_type": "markdown",
   "id": "b6688836",
   "metadata": {},
   "source": [
    "Using AI Platform Notebooks to build and train a model for identifying fraudulent transactions, and understand the model's predictions with the Explainable AI SDK. Fraud detection is a type of anomaly detection specific to financial services, and presents some interesting challenges for ML models: inherently imbalanced datasets and a need to explain a model's results."
   ]
  },
  {
   "cell_type": "markdown",
   "id": "ed7d3824",
   "metadata": {},
   "source": [
    "# Set up the environment"
   ]
  },
  {
   "cell_type": "code",
   "execution_count": 1,
   "id": "153ff3f3",
   "metadata": {},
   "outputs": [
    {
     "name": "stdout",
     "output_type": "stream",
     "text": [
      "It's done\n"
     ]
    }
   ],
   "source": [
    "#Installing libraries\n",
    "import itertools\n",
    "import numpy as np\n",
    "import pandas as pd\n",
    "import tensorflow as tf\n",
    "import json\n",
    "import matplotlib as mpl\n",
    "import matplotlib.pyplot as plt\n",
    "import explainable_ai_sdk\n",
    "\n",
    "from sklearn.utils import shuffle\n",
    "from sklearn.metrics import confusion_matrix\n",
    "from sklearn.preprocessing import StandardScaler\n",
    "from tensorflow import keras\n",
    "from explainable_ai_sdk.metadata.tf.v2 import SavedModelMetadataBuilder\n",
    "print(\"It's done\")"
   ]
  },
  {
   "cell_type": "markdown",
   "id": "c3151f0a",
   "metadata": {},
   "source": [
    "# Download and process data"
   ]
  },
  {
   "cell_type": "code",
   "execution_count": null,
   "id": "403eb5fd",
   "metadata": {},
   "outputs": [],
   "source": [
    "!gsutil cp gs://financial_fraud_detection/fraud_data_kaggle.csv ."
   ]
  },
  {
   "cell_type": "code",
   "execution_count": 27,
   "id": "69775277",
   "metadata": {},
   "outputs": [
    {
     "data": {
      "text/html": [
       "<div>\n",
       "<style scoped>\n",
       "    .dataframe tbody tr th:only-of-type {\n",
       "        vertical-align: middle;\n",
       "    }\n",
       "\n",
       "    .dataframe tbody tr th {\n",
       "        vertical-align: top;\n",
       "    }\n",
       "\n",
       "    .dataframe thead th {\n",
       "        text-align: right;\n",
       "    }\n",
       "</style>\n",
       "<table border=\"1\" class=\"dataframe\">\n",
       "  <thead>\n",
       "    <tr style=\"text-align: right;\">\n",
       "      <th></th>\n",
       "      <th>step</th>\n",
       "      <th>amount</th>\n",
       "      <th>nameOrig</th>\n",
       "      <th>oldbalanceOrg</th>\n",
       "      <th>newbalanceOrig</th>\n",
       "      <th>nameDest</th>\n",
       "      <th>oldbalanceDest</th>\n",
       "      <th>newbalanceDest</th>\n",
       "      <th>isFraud</th>\n",
       "      <th>isFlaggedFraud</th>\n",
       "    </tr>\n",
       "  </thead>\n",
       "  <tbody>\n",
       "    <tr>\n",
       "      <th>0</th>\n",
       "      <td>1</td>\n",
       "      <td>9839.64</td>\n",
       "      <td>C1231006815</td>\n",
       "      <td>170136.0</td>\n",
       "      <td>160296.36</td>\n",
       "      <td>M1979787155</td>\n",
       "      <td>0.0</td>\n",
       "      <td>0.0</td>\n",
       "      <td>0.0</td>\n",
       "      <td>0.0</td>\n",
       "    </tr>\n",
       "    <tr>\n",
       "      <th>1</th>\n",
       "      <td>1</td>\n",
       "      <td>1864.28</td>\n",
       "      <td>C1666544295</td>\n",
       "      <td>21249.0</td>\n",
       "      <td>19384.72</td>\n",
       "      <td>M2044282225</td>\n",
       "      <td>0.0</td>\n",
       "      <td>0.0</td>\n",
       "      <td>0.0</td>\n",
       "      <td>0.0</td>\n",
       "    </tr>\n",
       "    <tr>\n",
       "      <th>2</th>\n",
       "      <td>1</td>\n",
       "      <td>181.00</td>\n",
       "      <td>C1305486145</td>\n",
       "      <td>181.0</td>\n",
       "      <td>0.00</td>\n",
       "      <td>C553264065</td>\n",
       "      <td>0.0</td>\n",
       "      <td>0.0</td>\n",
       "      <td>1.0</td>\n",
       "      <td>0.0</td>\n",
       "    </tr>\n",
       "    <tr>\n",
       "      <th>3</th>\n",
       "      <td>1</td>\n",
       "      <td>181.00</td>\n",
       "      <td>C840083671</td>\n",
       "      <td>181.0</td>\n",
       "      <td>0.00</td>\n",
       "      <td>C38997010</td>\n",
       "      <td>21182.0</td>\n",
       "      <td>0.0</td>\n",
       "      <td>1.0</td>\n",
       "      <td>0.0</td>\n",
       "    </tr>\n",
       "    <tr>\n",
       "      <th>4</th>\n",
       "      <td>1</td>\n",
       "      <td>11668.14</td>\n",
       "      <td>C2048537720</td>\n",
       "      <td>41554.0</td>\n",
       "      <td>29885.86</td>\n",
       "      <td>M1230701703</td>\n",
       "      <td>0.0</td>\n",
       "      <td>0.0</td>\n",
       "      <td>0.0</td>\n",
       "      <td>0.0</td>\n",
       "    </tr>\n",
       "  </tbody>\n",
       "</table>\n",
       "</div>"
      ],
      "text/plain": [
       "   step    amount     nameOrig  oldbalanceOrg  newbalanceOrig     nameDest  \\\n",
       "0     1   9839.64  C1231006815       170136.0       160296.36  M1979787155   \n",
       "1     1   1864.28  C1666544295        21249.0        19384.72  M2044282225   \n",
       "2     1    181.00  C1305486145          181.0            0.00   C553264065   \n",
       "3     1    181.00   C840083671          181.0            0.00    C38997010   \n",
       "4     1  11668.14  C2048537720        41554.0        29885.86  M1230701703   \n",
       "\n",
       "   oldbalanceDest  newbalanceDest  isFraud  isFlaggedFraud  \n",
       "0             0.0             0.0      0.0             0.0  \n",
       "1             0.0             0.0      0.0             0.0  \n",
       "2             0.0             0.0      1.0             0.0  \n",
       "3         21182.0             0.0      1.0             0.0  \n",
       "4             0.0             0.0      0.0             0.0  "
      ]
     },
     "execution_count": 27,
     "metadata": {},
     "output_type": "execute_result"
    }
   ],
   "source": [
    "data = pd.read_csv('fraud_data_kaggle.csv')\n",
    "data = data.drop(columns=['type'])\n",
    "data.head()"
   ]
  },
  {
   "cell_type": "code",
   "execution_count": 3,
   "id": "3e35cbb0",
   "metadata": {},
   "outputs": [],
   "source": [
    "#Accounting for imbalanced data\n",
    "fraud = data[data['isFraud'] == 1]\n",
    "not_fraud = data[data['isFraud'] == 0]"
   ]
  },
  {
   "cell_type": "code",
   "execution_count": 4,
   "id": "08c3b548",
   "metadata": {},
   "outputs": [
    {
     "data": {
      "text/html": [
       "<div>\n",
       "<style scoped>\n",
       "    .dataframe tbody tr th:only-of-type {\n",
       "        vertical-align: middle;\n",
       "    }\n",
       "\n",
       "    .dataframe tbody tr th {\n",
       "        vertical-align: top;\n",
       "    }\n",
       "\n",
       "    .dataframe thead th {\n",
       "        text-align: right;\n",
       "    }\n",
       "</style>\n",
       "<table border=\"1\" class=\"dataframe\">\n",
       "  <thead>\n",
       "    <tr style=\"text-align: right;\">\n",
       "      <th></th>\n",
       "      <th>step</th>\n",
       "      <th>amount</th>\n",
       "      <th>oldbalanceOrg</th>\n",
       "      <th>newbalanceOrig</th>\n",
       "      <th>oldbalanceDest</th>\n",
       "      <th>newbalanceDest</th>\n",
       "      <th>isFraud</th>\n",
       "    </tr>\n",
       "  </thead>\n",
       "  <tbody>\n",
       "    <tr>\n",
       "      <th>5777870</th>\n",
       "      <td>400</td>\n",
       "      <td>65839.41</td>\n",
       "      <td>0.00</td>\n",
       "      <td>0.00</td>\n",
       "      <td>0.0</td>\n",
       "      <td>0.0</td>\n",
       "      <td>0</td>\n",
       "    </tr>\n",
       "    <tr>\n",
       "      <th>6362412</th>\n",
       "      <td>726</td>\n",
       "      <td>561446.32</td>\n",
       "      <td>561446.32</td>\n",
       "      <td>0.00</td>\n",
       "      <td>0.0</td>\n",
       "      <td>0.0</td>\n",
       "      <td>1</td>\n",
       "    </tr>\n",
       "    <tr>\n",
       "      <th>5927827</th>\n",
       "      <td>404</td>\n",
       "      <td>3828.08</td>\n",
       "      <td>10455.17</td>\n",
       "      <td>6627.09</td>\n",
       "      <td>0.0</td>\n",
       "      <td>0.0</td>\n",
       "      <td>0</td>\n",
       "    </tr>\n",
       "    <tr>\n",
       "      <th>5987904</th>\n",
       "      <td>410</td>\n",
       "      <td>557950.06</td>\n",
       "      <td>557950.06</td>\n",
       "      <td>0.00</td>\n",
       "      <td>0.0</td>\n",
       "      <td>0.0</td>\n",
       "      <td>1</td>\n",
       "    </tr>\n",
       "    <tr>\n",
       "      <th>5706694</th>\n",
       "      <td>398</td>\n",
       "      <td>1376.57</td>\n",
       "      <td>368349.14</td>\n",
       "      <td>366972.57</td>\n",
       "      <td>0.0</td>\n",
       "      <td>0.0</td>\n",
       "      <td>0</td>\n",
       "    </tr>\n",
       "  </tbody>\n",
       "</table>\n",
       "</div>"
      ],
      "text/plain": [
       "         step     amount  oldbalanceOrg  newbalanceOrig  oldbalanceDest  \\\n",
       "5777870   400   65839.41           0.00            0.00             0.0   \n",
       "6362412   726  561446.32      561446.32            0.00             0.0   \n",
       "5927827   404    3828.08       10455.17         6627.09             0.0   \n",
       "5987904   410  557950.06      557950.06            0.00             0.0   \n",
       "5706694   398    1376.57      368349.14       366972.57             0.0   \n",
       "\n",
       "         newbalanceDest  isFraud  \n",
       "5777870             0.0        0  \n",
       "6362412             0.0        1  \n",
       "5927827             0.0        0  \n",
       "5987904             0.0        1  \n",
       "5706694             0.0        0  "
      ]
     },
     "execution_count": 4,
     "metadata": {},
     "output_type": "execute_result"
    }
   ],
   "source": [
    "# Take a random sample of non fraud rows\n",
    "not_fraud_sample = not_fraud.sample(random_state=2, frac=.005)\n",
    "\n",
    "# Put it back together and shuffle\n",
    "df = pd.concat([not_fraud_sample,fraud])\n",
    "df = shuffle(df, random_state=2)\n",
    "\n",
    "# Remove a few columns (isFraud is the label column we'll use, not isFlaggedFraud)\n",
    "df = df.drop(columns=['nameOrig', 'nameDest', 'isFlaggedFraud'])\n",
    "\n",
    "# Preview the updated dataset\n",
    "df.head()"
   ]
  },
  {
   "cell_type": "code",
   "execution_count": 5,
   "id": "304f3f2e",
   "metadata": {},
   "outputs": [],
   "source": [
    "#Split the data into train and test sets\n",
    "train_test_split = int(len(df) * .8)\n",
    "\n",
    "train_set = df[:train_test_split]\n",
    "test_set = df[train_test_split:]\n",
    "\n",
    "train_labels = train_set.pop('isFraud')\n",
    "test_labels = test_set.pop('isFraud')"
   ]
  },
  {
   "cell_type": "code",
   "execution_count": 6,
   "id": "dc2264a0",
   "metadata": {},
   "outputs": [
    {
     "name": "stdout",
     "output_type": "stream",
     "text": [
      "31988\n"
     ]
    }
   ],
   "source": [
    "print(train_test_split)"
   ]
  },
  {
   "cell_type": "markdown",
   "id": "19fcdaea",
   "metadata": {},
   "source": [
    "# Build, train, and evaluate a tf.keras model "
   ]
  },
  {
   "cell_type": "code",
   "execution_count": 7,
   "id": "70512ced",
   "metadata": {},
   "outputs": [],
   "source": [
    "#Normalize the data\n",
    "scaler = StandardScaler()\n",
    "train_set = scaler.fit_transform(train_set) # Only normalize on the train set\n",
    "test_set = scaler.transform(test_set)\n",
    "\n",
    "# clip() ensures all values fall within the range [-5,5]\n",
    "# useful if any outliers remain after normalizing\n",
    "train_set = np.clip(train_set, -5, 5)\n",
    "test_set = np.clip(test_set, -5, 5)"
   ]
  },
  {
   "cell_type": "code",
   "execution_count": 8,
   "id": "86ab6aa7",
   "metadata": {},
   "outputs": [
    {
     "data": {
      "text/plain": [
       "array([[ 0.78221227, -0.28135938, -0.32757956, -0.25881048, -0.27127608,\n",
       "        -0.30545202],\n",
       "       [ 2.72626487,  0.0828357 , -0.13994077, -0.25881048, -0.27127608,\n",
       "        -0.30545202],\n",
       "       [ 0.80606567, -0.3269282 , -0.32408538, -0.25634649, -0.27127608,\n",
       "        -0.30545202],\n",
       "       ...,\n",
       "       [-1.53753148, -0.08614054, -0.24469344, -0.25881048, -0.20257442,\n",
       "        -0.1371838 ],\n",
       "       [-0.78614918,  1.96065359,  0.7140853 , -0.25881048, -0.14910874,\n",
       "         0.55889324],\n",
       "       [-0.60724864, -0.14519116, -0.24364672, -0.25881048, -0.27127608,\n",
       "        -0.30545202]])"
      ]
     },
     "execution_count": 8,
     "metadata": {},
     "output_type": "execute_result"
    }
   ],
   "source": [
    "train_set"
   ]
  },
  {
   "cell_type": "code",
   "execution_count": 9,
   "id": "cc0e9c1a",
   "metadata": {},
   "outputs": [],
   "source": [
    "#Determine class weights\n",
    "weight_for_non_fraud = 1.0 / df['isFraud'].value_counts()[0]\n",
    "weight_for_fraud = 1.0 / df['isFraud'].value_counts()[1]\n",
    "\n",
    "class_weight = {0: weight_for_non_fraud, 1: weight_for_fraud}"
   ]
  },
  {
   "cell_type": "code",
   "execution_count": 10,
   "id": "99383904",
   "metadata": {},
   "outputs": [],
   "source": [
    "#Train and evaluate the model\n",
    "METRICS = [\n",
    "      keras.metrics.TruePositives(name='tp'),\n",
    "      keras.metrics.FalsePositives(name='fp'),\n",
    "      keras.metrics.TrueNegatives(name='tn'),\n",
    "      keras.metrics.FalseNegatives(name='fn'), \n",
    "      keras.metrics.BinaryAccuracy(name='accuracy'),\n",
    "      keras.metrics.Precision(name='precision'),\n",
    "      keras.metrics.Recall(name='recall'),\n",
    "      keras.metrics.AUC(name='auc'),\n",
    "]\n",
    "\n",
    "def make_model(metrics = METRICS):\n",
    "  model = keras.Sequential([\n",
    "      keras.layers.Dense(\n",
    "          16, activation='relu',\n",
    "          input_shape=(train_set.shape[-1],)),\n",
    "      keras.layers.Dropout(0.5),\n",
    "      keras.layers.Dense(1, activation='sigmoid'),\n",
    "  ])\n",
    "\n",
    "  model.compile(\n",
    "      optimizer=keras.optimizers.Adam(lr=1e-3),\n",
    "      loss=keras.losses.BinaryCrossentropy(),\n",
    "      metrics=metrics)\n",
    "\n",
    "  return model"
   ]
  },
  {
   "cell_type": "code",
   "execution_count": 11,
   "id": "329915e0",
   "metadata": {},
   "outputs": [],
   "source": [
    "EPOCHS = 100\n",
    "BATCH_SIZE = 512\n",
    "\n",
    "early_stopping = tf.keras.callbacks.EarlyStopping(\n",
    "    monitor='val_auc', \n",
    "    verbose=1,\n",
    "    patience=10,\n",
    "    mode='max',\n",
    "    restore_best_weights=True)"
   ]
  },
  {
   "cell_type": "code",
   "execution_count": 12,
   "id": "d8c2bb46",
   "metadata": {},
   "outputs": [
    {
     "name": "stdout",
     "output_type": "stream",
     "text": [
      "Model: \"sequential\"\n",
      "_________________________________________________________________\n",
      " Layer (type)                Output Shape              Param #   \n",
      "=================================================================\n",
      " dense (Dense)               (None, 16)                112       \n",
      "                                                                 \n",
      " dropout (Dropout)           (None, 16)                0         \n",
      "                                                                 \n",
      " dense_1 (Dense)             (None, 1)                 17        \n",
      "                                                                 \n",
      "=================================================================\n",
      "Total params: 129\n",
      "Trainable params: 129\n",
      "Non-trainable params: 0\n",
      "_________________________________________________________________\n"
     ]
    },
    {
     "name": "stderr",
     "output_type": "stream",
     "text": [
      "C:\\Users\\jhose\\anaconda3\\lib\\site-packages\\keras\\optimizers\\optimizer_v2\\adam.py:114: UserWarning: The `lr` argument is deprecated, use `learning_rate` instead.\n",
      "  super().__init__(name, **kwargs)\n"
     ]
    }
   ],
   "source": [
    "model = make_model()\n",
    "model.summary()"
   ]
  },
  {
   "cell_type": "code",
   "execution_count": 13,
   "id": "62000584",
   "metadata": {},
   "outputs": [
    {
     "name": "stdout",
     "output_type": "stream",
     "text": [
      "Epoch 1/100\n",
      "63/63 [==============================] - 2s 9ms/step - loss: 3.6206e-05 - tp: 3135.0000 - fp: 11327.0000 - tn: 14042.0000 - fn: 3484.0000 - accuracy: 0.5370 - precision: 0.2168 - recall: 0.4736 - auc: 0.5088 - val_loss: 0.6600 - val_tp: 767.0000 - val_fp: 1803.0000 - val_tn: 4600.0000 - val_fn: 827.0000 - val_accuracy: 0.6711 - val_precision: 0.2984 - val_recall: 0.4812 - val_auc: 0.5937\n",
      "Epoch 2/100\n",
      "63/63 [==============================] - 0s 2ms/step - loss: 3.2029e-05 - tp: 3926.0000 - fp: 9031.0000 - tn: 16338.0000 - fn: 2693.0000 - accuracy: 0.6335 - precision: 0.3030 - recall: 0.5931 - auc: 0.6576 - val_loss: 0.6108 - val_tp: 1164.0000 - val_fp: 929.0000 - val_tn: 5474.0000 - val_fn: 430.0000 - val_accuracy: 0.8301 - val_precision: 0.5561 - val_recall: 0.7302 - val_auc: 0.8602\n",
      "Epoch 3/100\n",
      "63/63 [==============================] - 0s 2ms/step - loss: 2.9805e-05 - tp: 4133.0000 - fp: 6623.0000 - tn: 18746.0000 - fn: 2486.0000 - accuracy: 0.7152 - precision: 0.3843 - recall: 0.6244 - auc: 0.7430 - val_loss: 0.5757 - val_tp: 1146.0000 - val_fp: 966.0000 - val_tn: 5437.0000 - val_fn: 448.0000 - val_accuracy: 0.8232 - val_precision: 0.5426 - val_recall: 0.7189 - val_auc: 0.8610\n",
      "Epoch 4/100\n",
      "63/63 [==============================] - 0s 2ms/step - loss: 2.7958e-05 - tp: 4427.0000 - fp: 5310.0000 - tn: 20059.0000 - fn: 2192.0000 - accuracy: 0.7655 - precision: 0.4547 - recall: 0.6688 - auc: 0.7951 - val_loss: 0.5424 - val_tp: 1128.0000 - val_fp: 863.0000 - val_tn: 5540.0000 - val_fn: 466.0000 - val_accuracy: 0.8338 - val_precision: 0.5665 - val_recall: 0.7077 - val_auc: 0.8629\n",
      "Epoch 5/100\n",
      "63/63 [==============================] - 0s 2ms/step - loss: 2.6900e-05 - tp: 4526.0000 - fp: 4520.0000 - tn: 20849.0000 - fn: 2093.0000 - accuracy: 0.7933 - precision: 0.5003 - recall: 0.6838 - auc: 0.8104 - val_loss: 0.5132 - val_tp: 1119.0000 - val_fp: 710.0000 - val_tn: 5693.0000 - val_fn: 475.0000 - val_accuracy: 0.8518 - val_precision: 0.6118 - val_recall: 0.7020 - val_auc: 0.8707\n",
      "Epoch 6/100\n",
      "63/63 [==============================] - 0s 2ms/step - loss: 2.5772e-05 - tp: 4511.0000 - fp: 3682.0000 - tn: 21687.0000 - fn: 2108.0000 - accuracy: 0.8190 - precision: 0.5506 - recall: 0.6815 - auc: 0.8289 - val_loss: 0.4913 - val_tp: 1111.0000 - val_fp: 530.0000 - val_tn: 5873.0000 - val_fn: 483.0000 - val_accuracy: 0.8733 - val_precision: 0.6770 - val_recall: 0.6970 - val_auc: 0.8805\n",
      "Epoch 7/100\n",
      "63/63 [==============================] - 0s 2ms/step - loss: 2.5002e-05 - tp: 4562.0000 - fp: 3271.0000 - tn: 22098.0000 - fn: 2057.0000 - accuracy: 0.8334 - precision: 0.5824 - recall: 0.6892 - auc: 0.8372 - val_loss: 0.4749 - val_tp: 1116.0000 - val_fp: 514.0000 - val_tn: 5889.0000 - val_fn: 478.0000 - val_accuracy: 0.8760 - val_precision: 0.6847 - val_recall: 0.7001 - val_auc: 0.8847\n",
      "Epoch 8/100\n",
      "63/63 [==============================] - 0s 2ms/step - loss: 2.4555e-05 - tp: 4568.0000 - fp: 3052.0000 - tn: 22317.0000 - fn: 2051.0000 - accuracy: 0.8405 - precision: 0.5995 - recall: 0.6901 - auc: 0.8418 - val_loss: 0.4646 - val_tp: 1127.0000 - val_fp: 506.0000 - val_tn: 5897.0000 - val_fn: 467.0000 - val_accuracy: 0.8783 - val_precision: 0.6901 - val_recall: 0.7070 - val_auc: 0.8890\n",
      "Epoch 9/100\n",
      "63/63 [==============================] - 0s 2ms/step - loss: 2.3977e-05 - tp: 4573.0000 - fp: 2810.0000 - tn: 22559.0000 - fn: 2046.0000 - accuracy: 0.8482 - precision: 0.6194 - recall: 0.6909 - auc: 0.8489 - val_loss: 0.4523 - val_tp: 1124.0000 - val_fp: 495.0000 - val_tn: 5908.0000 - val_fn: 470.0000 - val_accuracy: 0.8793 - val_precision: 0.6943 - val_recall: 0.7051 - val_auc: 0.8923\n",
      "Epoch 10/100\n",
      "63/63 [==============================] - 0s 2ms/step - loss: 2.3663e-05 - tp: 4616.0000 - fp: 2693.0000 - tn: 22676.0000 - fn: 2003.0000 - accuracy: 0.8532 - precision: 0.6316 - recall: 0.6974 - auc: 0.8519 - val_loss: 0.4468 - val_tp: 1128.0000 - val_fp: 496.0000 - val_tn: 5907.0000 - val_fn: 466.0000 - val_accuracy: 0.8797 - val_precision: 0.6946 - val_recall: 0.7077 - val_auc: 0.8967\n",
      "Epoch 11/100\n",
      "63/63 [==============================] - 0s 2ms/step - loss: 2.3386e-05 - tp: 4619.0000 - fp: 2519.0000 - tn: 22850.0000 - fn: 2000.0000 - accuracy: 0.8587 - precision: 0.6471 - recall: 0.6978 - auc: 0.8553 - val_loss: 0.4424 - val_tp: 1138.0000 - val_fp: 498.0000 - val_tn: 5905.0000 - val_fn: 456.0000 - val_accuracy: 0.8807 - val_precision: 0.6956 - val_recall: 0.7139 - val_auc: 0.8989\n",
      "Epoch 12/100\n",
      "63/63 [==============================] - 0s 2ms/step - loss: 2.2906e-05 - tp: 4642.0000 - fp: 2389.0000 - tn: 22980.0000 - fn: 1977.0000 - accuracy: 0.8635 - precision: 0.6602 - recall: 0.7013 - auc: 0.8616 - val_loss: 0.4337 - val_tp: 1144.0000 - val_fp: 482.0000 - val_tn: 5921.0000 - val_fn: 450.0000 - val_accuracy: 0.8835 - val_precision: 0.7036 - val_recall: 0.7177 - val_auc: 0.9033\n",
      "Epoch 13/100\n",
      "63/63 [==============================] - 0s 2ms/step - loss: 2.2600e-05 - tp: 4661.0000 - fp: 2190.0000 - tn: 23179.0000 - fn: 1958.0000 - accuracy: 0.8703 - precision: 0.6803 - recall: 0.7042 - auc: 0.8677 - val_loss: 0.4260 - val_tp: 1150.0000 - val_fp: 480.0000 - val_tn: 5923.0000 - val_fn: 444.0000 - val_accuracy: 0.8845 - val_precision: 0.7055 - val_recall: 0.7215 - val_auc: 0.9055\n",
      "Epoch 14/100\n",
      "63/63 [==============================] - 0s 2ms/step - loss: 2.2368e-05 - tp: 4639.0000 - fp: 2044.0000 - tn: 23325.0000 - fn: 1980.0000 - accuracy: 0.8742 - precision: 0.6941 - recall: 0.7009 - auc: 0.8710 - val_loss: 0.4207 - val_tp: 1159.0000 - val_fp: 485.0000 - val_tn: 5918.0000 - val_fn: 435.0000 - val_accuracy: 0.8850 - val_precision: 0.7050 - val_recall: 0.7271 - val_auc: 0.9061\n",
      "Epoch 15/100\n",
      "63/63 [==============================] - 0s 2ms/step - loss: 2.1973e-05 - tp: 4659.0000 - fp: 1976.0000 - tn: 23393.0000 - fn: 1960.0000 - accuracy: 0.8770 - precision: 0.7022 - recall: 0.7039 - auc: 0.8747 - val_loss: 0.4135 - val_tp: 1158.0000 - val_fp: 477.0000 - val_tn: 5926.0000 - val_fn: 436.0000 - val_accuracy: 0.8858 - val_precision: 0.7083 - val_recall: 0.7265 - val_auc: 0.9061\n",
      "Epoch 16/100\n",
      "63/63 [==============================] - 0s 2ms/step - loss: 2.1785e-05 - tp: 4645.0000 - fp: 1861.0000 - tn: 23508.0000 - fn: 1974.0000 - accuracy: 0.8801 - precision: 0.7140 - recall: 0.7018 - auc: 0.8798 - val_loss: 0.4094 - val_tp: 1162.0000 - val_fp: 476.0000 - val_tn: 5927.0000 - val_fn: 432.0000 - val_accuracy: 0.8865 - val_precision: 0.7094 - val_recall: 0.7290 - val_auc: 0.9079\n",
      "Epoch 17/100\n",
      "63/63 [==============================] - 0s 2ms/step - loss: 2.1668e-05 - tp: 4684.0000 - fp: 1833.0000 - tn: 23536.0000 - fn: 1935.0000 - accuracy: 0.8822 - precision: 0.7187 - recall: 0.7077 - auc: 0.8780 - val_loss: 0.4071 - val_tp: 1170.0000 - val_fp: 481.0000 - val_tn: 5922.0000 - val_fn: 424.0000 - val_accuracy: 0.8868 - val_precision: 0.7087 - val_recall: 0.7340 - val_auc: 0.9104\n",
      "Epoch 18/100\n",
      "63/63 [==============================] - 0s 2ms/step - loss: 2.1403e-05 - tp: 4713.0000 - fp: 1789.0000 - tn: 23580.0000 - fn: 1906.0000 - accuracy: 0.8845 - precision: 0.7249 - recall: 0.7120 - auc: 0.8846 - val_loss: 0.3986 - val_tp: 1167.0000 - val_fp: 467.0000 - val_tn: 5936.0000 - val_fn: 427.0000 - val_accuracy: 0.8882 - val_precision: 0.7142 - val_recall: 0.7321 - val_auc: 0.9096\n",
      "Epoch 19/100\n",
      "63/63 [==============================] - 0s 2ms/step - loss: 2.1116e-05 - tp: 4715.0000 - fp: 1765.0000 - tn: 23604.0000 - fn: 1904.0000 - accuracy: 0.8853 - precision: 0.7276 - recall: 0.7123 - auc: 0.8873 - val_loss: 0.4005 - val_tp: 1181.0000 - val_fp: 478.0000 - val_tn: 5925.0000 - val_fn: 413.0000 - val_accuracy: 0.8886 - val_precision: 0.7119 - val_recall: 0.7409 - val_auc: 0.9116\n",
      "Epoch 20/100\n",
      "63/63 [==============================] - 0s 2ms/step - loss: 2.0959e-05 - tp: 4704.0000 - fp: 1694.0000 - tn: 23675.0000 - fn: 1915.0000 - accuracy: 0.8872 - precision: 0.7352 - recall: 0.7107 - auc: 0.8896 - val_loss: 0.3925 - val_tp: 1176.0000 - val_fp: 466.0000 - val_tn: 5937.0000 - val_fn: 418.0000 - val_accuracy: 0.8895 - val_precision: 0.7162 - val_recall: 0.7378 - val_auc: 0.9134\n",
      "Epoch 21/100\n",
      "63/63 [==============================] - 0s 2ms/step - loss: 2.0802e-05 - tp: 4746.0000 - fp: 1707.0000 - tn: 23662.0000 - fn: 1873.0000 - accuracy: 0.8881 - precision: 0.7355 - recall: 0.7170 - auc: 0.8915 - val_loss: 0.3885 - val_tp: 1181.0000 - val_fp: 455.0000 - val_tn: 5948.0000 - val_fn: 413.0000 - val_accuracy: 0.8915 - val_precision: 0.7219 - val_recall: 0.7409 - val_auc: 0.9155\n",
      "Epoch 22/100\n",
      "63/63 [==============================] - 0s 3ms/step - loss: 2.0587e-05 - tp: 4751.0000 - fp: 1621.0000 - tn: 23748.0000 - fn: 1868.0000 - accuracy: 0.8909 - precision: 0.7456 - recall: 0.7178 - auc: 0.8960 - val_loss: 0.3863 - val_tp: 1189.0000 - val_fp: 461.0000 - val_tn: 5942.0000 - val_fn: 405.0000 - val_accuracy: 0.8917 - val_precision: 0.7206 - val_recall: 0.7459 - val_auc: 0.9151\n",
      "Epoch 23/100\n",
      "63/63 [==============================] - 0s 2ms/step - loss: 2.0403e-05 - tp: 4785.0000 - fp: 1696.0000 - tn: 23673.0000 - fn: 1834.0000 - accuracy: 0.8896 - precision: 0.7383 - recall: 0.7229 - auc: 0.8970 - val_loss: 0.3811 - val_tp: 1189.0000 - val_fp: 451.0000 - val_tn: 5952.0000 - val_fn: 405.0000 - val_accuracy: 0.8930 - val_precision: 0.7250 - val_recall: 0.7459 - val_auc: 0.9171\n",
      "Epoch 24/100\n",
      "63/63 [==============================] - 0s 2ms/step - loss: 2.0199e-05 - tp: 4770.0000 - fp: 1603.0000 - tn: 23766.0000 - fn: 1849.0000 - accuracy: 0.8921 - precision: 0.7485 - recall: 0.7207 - auc: 0.8989 - val_loss: 0.3810 - val_tp: 1207.0000 - val_fp: 459.0000 - val_tn: 5944.0000 - val_fn: 387.0000 - val_accuracy: 0.8942 - val_precision: 0.7245 - val_recall: 0.7572 - val_auc: 0.9212\n",
      "Epoch 25/100\n",
      "63/63 [==============================] - 0s 2ms/step - loss: 2.0171e-05 - tp: 4797.0000 - fp: 1612.0000 - tn: 23757.0000 - fn: 1822.0000 - accuracy: 0.8926 - precision: 0.7485 - recall: 0.7247 - auc: 0.9005 - val_loss: 0.3725 - val_tp: 1205.0000 - val_fp: 439.0000 - val_tn: 5964.0000 - val_fn: 389.0000 - val_accuracy: 0.8965 - val_precision: 0.7330 - val_recall: 0.7560 - val_auc: 0.9246\n",
      "Epoch 26/100\n",
      "63/63 [==============================] - 0s 2ms/step - loss: 1.9944e-05 - tp: 4817.0000 - fp: 1563.0000 - tn: 23806.0000 - fn: 1802.0000 - accuracy: 0.8948 - precision: 0.7550 - recall: 0.7278 - auc: 0.9034 - val_loss: 0.3693 - val_tp: 1207.0000 - val_fp: 439.0000 - val_tn: 5964.0000 - val_fn: 387.0000 - val_accuracy: 0.8967 - val_precision: 0.7333 - val_recall: 0.7572 - val_auc: 0.9251\n",
      "Epoch 27/100\n",
      "63/63 [==============================] - 0s 2ms/step - loss: 1.9807e-05 - tp: 4838.0000 - fp: 1533.0000 - tn: 23836.0000 - fn: 1781.0000 - accuracy: 0.8964 - precision: 0.7594 - recall: 0.7309 - auc: 0.9053 - val_loss: 0.3686 - val_tp: 1219.0000 - val_fp: 444.0000 - val_tn: 5959.0000 - val_fn: 375.0000 - val_accuracy: 0.8976 - val_precision: 0.7330 - val_recall: 0.7647 - val_auc: 0.9253\n",
      "Epoch 28/100\n",
      "63/63 [==============================] - 0s 2ms/step - loss: 1.9715e-05 - tp: 4863.0000 - fp: 1595.0000 - tn: 23774.0000 - fn: 1756.0000 - accuracy: 0.8952 - precision: 0.7530 - recall: 0.7347 - auc: 0.9049 - val_loss: 0.3667 - val_tp: 1224.0000 - val_fp: 431.0000 - val_tn: 5972.0000 - val_fn: 370.0000 - val_accuracy: 0.8998 - val_precision: 0.7396 - val_recall: 0.7679 - val_auc: 0.9276\n",
      "Epoch 29/100\n",
      "63/63 [==============================] - 0s 2ms/step - loss: 1.9385e-05 - tp: 4865.0000 - fp: 1528.0000 - tn: 23841.0000 - fn: 1754.0000 - accuracy: 0.8974 - precision: 0.7610 - recall: 0.7350 - auc: 0.9089 - val_loss: 0.3597 - val_tp: 1221.0000 - val_fp: 417.0000 - val_tn: 5986.0000 - val_fn: 373.0000 - val_accuracy: 0.9012 - val_precision: 0.7454 - val_recall: 0.7660 - val_auc: 0.9316\n",
      "Epoch 30/100\n",
      "63/63 [==============================] - 0s 2ms/step - loss: 1.9306e-05 - tp: 4885.0000 - fp: 1524.0000 - tn: 23845.0000 - fn: 1734.0000 - accuracy: 0.8981 - precision: 0.7622 - recall: 0.7380 - auc: 0.9117 - val_loss: 0.3554 - val_tp: 1223.0000 - val_fp: 417.0000 - val_tn: 5986.0000 - val_fn: 371.0000 - val_accuracy: 0.9015 - val_precision: 0.7457 - val_recall: 0.7673 - val_auc: 0.9306\n",
      "Epoch 31/100\n",
      "63/63 [==============================] - 0s 2ms/step - loss: 1.8992e-05 - tp: 4904.0000 - fp: 1485.0000 - tn: 23884.0000 - fn: 1715.0000 - accuracy: 0.9000 - precision: 0.7676 - recall: 0.7409 - auc: 0.9138 - val_loss: 0.3519 - val_tp: 1227.0000 - val_fp: 413.0000 - val_tn: 5990.0000 - val_fn: 367.0000 - val_accuracy: 0.9025 - val_precision: 0.7482 - val_recall: 0.7698 - val_auc: 0.9326\n",
      "Epoch 32/100\n",
      "63/63 [==============================] - 0s 2ms/step - loss: 1.8932e-05 - tp: 4904.0000 - fp: 1493.0000 - tn: 23876.0000 - fn: 1715.0000 - accuracy: 0.8997 - precision: 0.7666 - recall: 0.7409 - auc: 0.9123 - val_loss: 0.3498 - val_tp: 1231.0000 - val_fp: 406.0000 - val_tn: 5997.0000 - val_fn: 363.0000 - val_accuracy: 0.9038 - val_precision: 0.7520 - val_recall: 0.7723 - val_auc: 0.9341\n",
      "Epoch 33/100\n",
      "63/63 [==============================] - 0s 2ms/step - loss: 1.8726e-05 - tp: 4926.0000 - fp: 1439.0000 - tn: 23930.0000 - fn: 1693.0000 - accuracy: 0.9021 - precision: 0.7739 - recall: 0.7442 - auc: 0.9169 - val_loss: 0.3433 - val_tp: 1230.0000 - val_fp: 386.0000 - val_tn: 6017.0000 - val_fn: 364.0000 - val_accuracy: 0.9062 - val_precision: 0.7611 - val_recall: 0.7716 - val_auc: 0.9377\n",
      "Epoch 34/100\n",
      "63/63 [==============================] - 0s 2ms/step - loss: 1.8581e-05 - tp: 4910.0000 - fp: 1426.0000 - tn: 23943.0000 - fn: 1709.0000 - accuracy: 0.9020 - precision: 0.7749 - recall: 0.7418 - auc: 0.9200 - val_loss: 0.3381 - val_tp: 1232.0000 - val_fp: 382.0000 - val_tn: 6021.0000 - val_fn: 362.0000 - val_accuracy: 0.9070 - val_precision: 0.7633 - val_recall: 0.7729 - val_auc: 0.9394\n",
      "Epoch 35/100\n",
      "63/63 [==============================] - 0s 2ms/step - loss: 1.8410e-05 - tp: 4914.0000 - fp: 1373.0000 - tn: 23996.0000 - fn: 1705.0000 - accuracy: 0.9038 - precision: 0.7816 - recall: 0.7424 - auc: 0.9195 - val_loss: 0.3371 - val_tp: 1238.0000 - val_fp: 378.0000 - val_tn: 6025.0000 - val_fn: 356.0000 - val_accuracy: 0.9082 - val_precision: 0.7661 - val_recall: 0.7767 - val_auc: 0.9416\n",
      "Epoch 36/100\n",
      "63/63 [==============================] - 0s 2ms/step - loss: 1.8364e-05 - tp: 4928.0000 - fp: 1385.0000 - tn: 23984.0000 - fn: 1691.0000 - accuracy: 0.9038 - precision: 0.7806 - recall: 0.7445 - auc: 0.9220 - val_loss: 0.3328 - val_tp: 1239.0000 - val_fp: 376.0000 - val_tn: 6027.0000 - val_fn: 355.0000 - val_accuracy: 0.9086 - val_precision: 0.7672 - val_recall: 0.7773 - val_auc: 0.9438\n",
      "Epoch 37/100\n",
      "63/63 [==============================] - 0s 2ms/step - loss: 1.8131e-05 - tp: 4973.0000 - fp: 1372.0000 - tn: 23997.0000 - fn: 1646.0000 - accuracy: 0.9057 - precision: 0.7838 - recall: 0.7513 - auc: 0.9250 - val_loss: 0.3242 - val_tp: 1232.0000 - val_fp: 360.0000 - val_tn: 6043.0000 - val_fn: 362.0000 - val_accuracy: 0.9097 - val_precision: 0.7739 - val_recall: 0.7729 - val_auc: 0.9447\n",
      "Epoch 38/100\n",
      "63/63 [==============================] - 0s 2ms/step - loss: 1.7886e-05 - tp: 4996.0000 - fp: 1285.0000 - tn: 24084.0000 - fn: 1623.0000 - accuracy: 0.9091 - precision: 0.7954 - recall: 0.7548 - auc: 0.9254 - val_loss: 0.3320 - val_tp: 1254.0000 - val_fp: 378.0000 - val_tn: 6025.0000 - val_fn: 340.0000 - val_accuracy: 0.9102 - val_precision: 0.7684 - val_recall: 0.7867 - val_auc: 0.9451\n",
      "Epoch 39/100\n",
      "63/63 [==============================] - 0s 2ms/step - loss: 1.7857e-05 - tp: 4998.0000 - fp: 1307.0000 - tn: 24062.0000 - fn: 1621.0000 - accuracy: 0.9085 - precision: 0.7927 - recall: 0.7551 - auc: 0.9280 - val_loss: 0.3187 - val_tp: 1244.0000 - val_fp: 361.0000 - val_tn: 6042.0000 - val_fn: 350.0000 - val_accuracy: 0.9111 - val_precision: 0.7751 - val_recall: 0.7804 - val_auc: 0.9477\n",
      "Epoch 40/100\n",
      "63/63 [==============================] - 0s 2ms/step - loss: 1.7759e-05 - tp: 5012.0000 - fp: 1300.0000 - tn: 24069.0000 - fn: 1607.0000 - accuracy: 0.9091 - precision: 0.7940 - recall: 0.7572 - auc: 0.9284 - val_loss: 0.3181 - val_tp: 1248.0000 - val_fp: 356.0000 - val_tn: 6047.0000 - val_fn: 346.0000 - val_accuracy: 0.9122 - val_precision: 0.7781 - val_recall: 0.7829 - val_auc: 0.9495\n",
      "Epoch 41/100\n",
      "63/63 [==============================] - 0s 2ms/step - loss: 1.7544e-05 - tp: 5004.0000 - fp: 1267.0000 - tn: 24102.0000 - fn: 1615.0000 - accuracy: 0.9099 - precision: 0.7980 - recall: 0.7560 - auc: 0.9306 - val_loss: 0.3277 - val_tp: 1268.0000 - val_fp: 381.0000 - val_tn: 6022.0000 - val_fn: 326.0000 - val_accuracy: 0.9116 - val_precision: 0.7690 - val_recall: 0.7955 - val_auc: 0.9485\n",
      "Epoch 42/100\n",
      "63/63 [==============================] - 0s 2ms/step - loss: 1.7413e-05 - tp: 5052.0000 - fp: 1281.0000 - tn: 24088.0000 - fn: 1567.0000 - accuracy: 0.9110 - precision: 0.7977 - recall: 0.7633 - auc: 0.9312 - val_loss: 0.3206 - val_tp: 1260.0000 - val_fp: 370.0000 - val_tn: 6033.0000 - val_fn: 334.0000 - val_accuracy: 0.9120 - val_precision: 0.7730 - val_recall: 0.7905 - val_auc: 0.9499\n",
      "Epoch 43/100\n",
      "63/63 [==============================] - 0s 2ms/step - loss: 1.7312e-05 - tp: 5050.0000 - fp: 1272.0000 - tn: 24097.0000 - fn: 1569.0000 - accuracy: 0.9112 - precision: 0.7988 - recall: 0.7630 - auc: 0.9324 - val_loss: 0.3120 - val_tp: 1257.0000 - val_fp: 361.0000 - val_tn: 6042.0000 - val_fn: 337.0000 - val_accuracy: 0.9127 - val_precision: 0.7769 - val_recall: 0.7886 - val_auc: 0.9505\n",
      "Epoch 44/100\n",
      "63/63 [==============================] - 0s 2ms/step - loss: 1.7369e-05 - tp: 5058.0000 - fp: 1295.0000 - tn: 24074.0000 - fn: 1561.0000 - accuracy: 0.9107 - precision: 0.7962 - recall: 0.7642 - auc: 0.9325 - val_loss: 0.3162 - val_tp: 1271.0000 - val_fp: 368.0000 - val_tn: 6035.0000 - val_fn: 323.0000 - val_accuracy: 0.9136 - val_precision: 0.7755 - val_recall: 0.7974 - val_auc: 0.9501\n",
      "Epoch 45/100\n",
      "63/63 [==============================] - 0s 2ms/step - loss: 1.7108e-05 - tp: 5048.0000 - fp: 1258.0000 - tn: 24111.0000 - fn: 1571.0000 - accuracy: 0.9116 - precision: 0.8005 - recall: 0.7627 - auc: 0.9338 - val_loss: 0.3090 - val_tp: 1260.0000 - val_fp: 359.0000 - val_tn: 6044.0000 - val_fn: 334.0000 - val_accuracy: 0.9133 - val_precision: 0.7783 - val_recall: 0.7905 - val_auc: 0.9536\n",
      "Epoch 46/100\n",
      "63/63 [==============================] - 0s 2ms/step - loss: 1.6910e-05 - tp: 5079.0000 - fp: 1262.0000 - tn: 24107.0000 - fn: 1540.0000 - accuracy: 0.9124 - precision: 0.8010 - recall: 0.7673 - auc: 0.9349 - val_loss: 0.3026 - val_tp: 1253.0000 - val_fp: 345.0000 - val_tn: 6058.0000 - val_fn: 341.0000 - val_accuracy: 0.9142 - val_precision: 0.7841 - val_recall: 0.7861 - val_auc: 0.9551\n",
      "Epoch 47/100\n",
      "63/63 [==============================] - 0s 2ms/step - loss: 1.6985e-05 - tp: 5096.0000 - fp: 1263.0000 - tn: 24106.0000 - fn: 1523.0000 - accuracy: 0.9129 - precision: 0.8014 - recall: 0.7699 - auc: 0.9352 - val_loss: 0.3031 - val_tp: 1267.0000 - val_fp: 347.0000 - val_tn: 6056.0000 - val_fn: 327.0000 - val_accuracy: 0.9157 - val_precision: 0.7850 - val_recall: 0.7949 - val_auc: 0.9550\n",
      "Epoch 48/100\n",
      "63/63 [==============================] - 0s 2ms/step - loss: 1.6884e-05 - tp: 5102.0000 - fp: 1223.0000 - tn: 24146.0000 - fn: 1517.0000 - accuracy: 0.9143 - precision: 0.8066 - recall: 0.7708 - auc: 0.9373 - val_loss: 0.3007 - val_tp: 1266.0000 - val_fp: 345.0000 - val_tn: 6058.0000 - val_fn: 328.0000 - val_accuracy: 0.9158 - val_precision: 0.7858 - val_recall: 0.7942 - val_auc: 0.9562\n",
      "Epoch 49/100\n",
      "63/63 [==============================] - 0s 2ms/step - loss: 1.6710e-05 - tp: 5104.0000 - fp: 1228.0000 - tn: 24141.0000 - fn: 1515.0000 - accuracy: 0.9142 - precision: 0.8061 - recall: 0.7711 - auc: 0.9381 - val_loss: 0.2970 - val_tp: 1271.0000 - val_fp: 339.0000 - val_tn: 6064.0000 - val_fn: 323.0000 - val_accuracy: 0.9172 - val_precision: 0.7894 - val_recall: 0.7974 - val_auc: 0.9553\n",
      "Epoch 50/100\n",
      "63/63 [==============================] - 0s 2ms/step - loss: 1.6599e-05 - tp: 5130.0000 - fp: 1203.0000 - tn: 24166.0000 - fn: 1489.0000 - accuracy: 0.9158 - precision: 0.8100 - recall: 0.7750 - auc: 0.9385 - val_loss: 0.2906 - val_tp: 1263.0000 - val_fp: 318.0000 - val_tn: 6085.0000 - val_fn: 331.0000 - val_accuracy: 0.9188 - val_precision: 0.7989 - val_recall: 0.7923 - val_auc: 0.9579\n",
      "Epoch 51/100\n",
      "63/63 [==============================] - 0s 2ms/step - loss: 1.6548e-05 - tp: 5119.0000 - fp: 1212.0000 - tn: 24157.0000 - fn: 1500.0000 - accuracy: 0.9152 - precision: 0.8086 - recall: 0.7734 - auc: 0.9394 - val_loss: 0.2935 - val_tp: 1279.0000 - val_fp: 333.0000 - val_tn: 6070.0000 - val_fn: 315.0000 - val_accuracy: 0.9190 - val_precision: 0.7934 - val_recall: 0.8024 - val_auc: 0.9570\n",
      "Epoch 52/100\n",
      "63/63 [==============================] - 0s 2ms/step - loss: 1.6380e-05 - tp: 5126.0000 - fp: 1175.0000 - tn: 24194.0000 - fn: 1493.0000 - accuracy: 0.9166 - precision: 0.8135 - recall: 0.7744 - auc: 0.9412 - val_loss: 0.2961 - val_tp: 1289.0000 - val_fp: 334.0000 - val_tn: 6069.0000 - val_fn: 305.0000 - val_accuracy: 0.9201 - val_precision: 0.7942 - val_recall: 0.8087 - val_auc: 0.9582\n",
      "Epoch 53/100\n",
      "63/63 [==============================] - 0s 2ms/step - loss: 1.6353e-05 - tp: 5144.0000 - fp: 1190.0000 - tn: 24179.0000 - fn: 1475.0000 - accuracy: 0.9167 - precision: 0.8121 - recall: 0.7772 - auc: 0.9407 - val_loss: 0.2902 - val_tp: 1286.0000 - val_fp: 328.0000 - val_tn: 6075.0000 - val_fn: 308.0000 - val_accuracy: 0.9205 - val_precision: 0.7968 - val_recall: 0.8068 - val_auc: 0.9591\n",
      "Epoch 54/100\n",
      "63/63 [==============================] - 0s 2ms/step - loss: 1.6200e-05 - tp: 5137.0000 - fp: 1185.0000 - tn: 24184.0000 - fn: 1482.0000 - accuracy: 0.9166 - precision: 0.8126 - recall: 0.7761 - auc: 0.9422 - val_loss: 0.2867 - val_tp: 1285.0000 - val_fp: 321.0000 - val_tn: 6082.0000 - val_fn: 309.0000 - val_accuracy: 0.9212 - val_precision: 0.8001 - val_recall: 0.8061 - val_auc: 0.9594\n",
      "Epoch 55/100\n",
      "63/63 [==============================] - 0s 2ms/step - loss: 1.6088e-05 - tp: 5154.0000 - fp: 1178.0000 - tn: 24191.0000 - fn: 1465.0000 - accuracy: 0.9174 - precision: 0.8140 - recall: 0.7787 - auc: 0.9432 - val_loss: 0.2837 - val_tp: 1287.0000 - val_fp: 317.0000 - val_tn: 6086.0000 - val_fn: 307.0000 - val_accuracy: 0.9220 - val_precision: 0.8024 - val_recall: 0.8074 - val_auc: 0.9597\n",
      "Epoch 56/100\n",
      "63/63 [==============================] - 0s 2ms/step - loss: 1.5913e-05 - tp: 5206.0000 - fp: 1217.0000 - tn: 24152.0000 - fn: 1413.0000 - accuracy: 0.9178 - precision: 0.8105 - recall: 0.7865 - auc: 0.9458 - val_loss: 0.2802 - val_tp: 1290.0000 - val_fp: 297.0000 - val_tn: 6106.0000 - val_fn: 304.0000 - val_accuracy: 0.9248 - val_precision: 0.8129 - val_recall: 0.8093 - val_auc: 0.9616\n",
      "Epoch 57/100\n",
      "63/63 [==============================] - 0s 2ms/step - loss: 1.5715e-05 - tp: 5225.0000 - fp: 1108.0000 - tn: 24261.0000 - fn: 1394.0000 - accuracy: 0.9218 - precision: 0.8250 - recall: 0.7894 - auc: 0.9469 - val_loss: 0.2739 - val_tp: 1289.0000 - val_fp: 283.0000 - val_tn: 6120.0000 - val_fn: 305.0000 - val_accuracy: 0.9265 - val_precision: 0.8200 - val_recall: 0.8087 - val_auc: 0.9612\n",
      "Epoch 58/100\n",
      "63/63 [==============================] - 0s 2ms/step - loss: 1.5891e-05 - tp: 5175.0000 - fp: 1125.0000 - tn: 24244.0000 - fn: 1444.0000 - accuracy: 0.9197 - precision: 0.8214 - recall: 0.7818 - auc: 0.9452 - val_loss: 0.2719 - val_tp: 1291.0000 - val_fp: 288.0000 - val_tn: 6115.0000 - val_fn: 303.0000 - val_accuracy: 0.9261 - val_precision: 0.8176 - val_recall: 0.8099 - val_auc: 0.9623\n",
      "Epoch 59/100\n",
      "63/63 [==============================] - 0s 2ms/step - loss: 1.5622e-05 - tp: 5235.0000 - fp: 1162.0000 - tn: 24207.0000 - fn: 1384.0000 - accuracy: 0.9204 - precision: 0.8184 - recall: 0.7909 - auc: 0.9467 - val_loss: 0.2742 - val_tp: 1300.0000 - val_fp: 295.0000 - val_tn: 6108.0000 - val_fn: 294.0000 - val_accuracy: 0.9263 - val_precision: 0.8150 - val_recall: 0.8156 - val_auc: 0.9637\n",
      "Epoch 60/100\n",
      "63/63 [==============================] - 0s 2ms/step - loss: 1.5621e-05 - tp: 5242.0000 - fp: 1123.0000 - tn: 24246.0000 - fn: 1377.0000 - accuracy: 0.9218 - precision: 0.8236 - recall: 0.7920 - auc: 0.9463 - val_loss: 0.2738 - val_tp: 1305.0000 - val_fp: 296.0000 - val_tn: 6107.0000 - val_fn: 289.0000 - val_accuracy: 0.9268 - val_precision: 0.8151 - val_recall: 0.8187 - val_auc: 0.9637\n",
      "Epoch 61/100\n",
      "63/63 [==============================] - 0s 2ms/step - loss: 1.5534e-05 - tp: 5228.0000 - fp: 1120.0000 - tn: 24249.0000 - fn: 1391.0000 - accuracy: 0.9215 - precision: 0.8236 - recall: 0.7898 - auc: 0.9469 - val_loss: 0.2733 - val_tp: 1306.0000 - val_fp: 304.0000 - val_tn: 6099.0000 - val_fn: 288.0000 - val_accuracy: 0.9260 - val_precision: 0.8112 - val_recall: 0.8193 - val_auc: 0.9644\n",
      "Epoch 62/100\n",
      "63/63 [==============================] - 0s 2ms/step - loss: 1.5432e-05 - tp: 5262.0000 - fp: 1127.0000 - tn: 24242.0000 - fn: 1357.0000 - accuracy: 0.9223 - precision: 0.8236 - recall: 0.7950 - auc: 0.9483 - val_loss: 0.2692 - val_tp: 1303.0000 - val_fp: 279.0000 - val_tn: 6124.0000 - val_fn: 291.0000 - val_accuracy: 0.9287 - val_precision: 0.8236 - val_recall: 0.8174 - val_auc: 0.9671\n",
      "Epoch 63/100\n",
      "63/63 [==============================] - 0s 2ms/step - loss: 1.5405e-05 - tp: 5213.0000 - fp: 1079.0000 - tn: 24290.0000 - fn: 1406.0000 - accuracy: 0.9223 - precision: 0.8285 - recall: 0.7876 - auc: 0.9495 - val_loss: 0.2681 - val_tp: 1310.0000 - val_fp: 289.0000 - val_tn: 6114.0000 - val_fn: 284.0000 - val_accuracy: 0.9283 - val_precision: 0.8193 - val_recall: 0.8218 - val_auc: 0.9668\n",
      "Epoch 64/100\n",
      "63/63 [==============================] - 0s 2ms/step - loss: 1.5093e-05 - tp: 5267.0000 - fp: 1043.0000 - tn: 24326.0000 - fn: 1352.0000 - accuracy: 0.9251 - precision: 0.8347 - recall: 0.7957 - auc: 0.9513 - val_loss: 0.2700 - val_tp: 1322.0000 - val_fp: 294.0000 - val_tn: 6109.0000 - val_fn: 272.0000 - val_accuracy: 0.9292 - val_precision: 0.8181 - val_recall: 0.8294 - val_auc: 0.9661\n",
      "Epoch 65/100\n",
      "63/63 [==============================] - 0s 2ms/step - loss: 1.5121e-05 - tp: 5262.0000 - fp: 1056.0000 - tn: 24313.0000 - fn: 1357.0000 - accuracy: 0.9246 - precision: 0.8329 - recall: 0.7950 - auc: 0.9499 - val_loss: 0.2619 - val_tp: 1310.0000 - val_fp: 275.0000 - val_tn: 6128.0000 - val_fn: 284.0000 - val_accuracy: 0.9301 - val_precision: 0.8265 - val_recall: 0.8218 - val_auc: 0.9688\n",
      "Epoch 66/100\n",
      "63/63 [==============================] - 0s 2ms/step - loss: 1.5276e-05 - tp: 5263.0000 - fp: 1098.0000 - tn: 24271.0000 - fn: 1356.0000 - accuracy: 0.9233 - precision: 0.8274 - recall: 0.7951 - auc: 0.9500 - val_loss: 0.2629 - val_tp: 1315.0000 - val_fp: 274.0000 - val_tn: 6129.0000 - val_fn: 279.0000 - val_accuracy: 0.9308 - val_precision: 0.8276 - val_recall: 0.8250 - val_auc: 0.9690\n",
      "Epoch 67/100\n",
      "63/63 [==============================] - 0s 2ms/step - loss: 1.5026e-05 - tp: 5290.0000 - fp: 1052.0000 - tn: 24317.0000 - fn: 1329.0000 - accuracy: 0.9256 - precision: 0.8341 - recall: 0.7992 - auc: 0.9516 - val_loss: 0.2591 - val_tp: 1316.0000 - val_fp: 276.0000 - val_tn: 6127.0000 - val_fn: 278.0000 - val_accuracy: 0.9307 - val_precision: 0.8266 - val_recall: 0.8256 - val_auc: 0.9674\n",
      "Epoch 68/100\n",
      "63/63 [==============================] - 0s 2ms/step - loss: 1.5010e-05 - tp: 5253.0000 - fp: 1091.0000 - tn: 24278.0000 - fn: 1366.0000 - accuracy: 0.9232 - precision: 0.8280 - recall: 0.7936 - auc: 0.9514 - val_loss: 0.2678 - val_tp: 1335.0000 - val_fp: 293.0000 - val_tn: 6110.0000 - val_fn: 259.0000 - val_accuracy: 0.9310 - val_precision: 0.8200 - val_recall: 0.8375 - val_auc: 0.9676\n",
      "Epoch 69/100\n",
      "63/63 [==============================] - 0s 2ms/step - loss: 1.4799e-05 - tp: 5306.0000 - fp: 1042.0000 - tn: 24327.0000 - fn: 1313.0000 - accuracy: 0.9264 - precision: 0.8359 - recall: 0.8016 - auc: 0.9533 - val_loss: 0.2569 - val_tp: 1319.0000 - val_fp: 269.0000 - val_tn: 6134.0000 - val_fn: 275.0000 - val_accuracy: 0.9320 - val_precision: 0.8306 - val_recall: 0.8275 - val_auc: 0.9698\n",
      "Epoch 70/100\n",
      "63/63 [==============================] - 0s 2ms/step - loss: 1.4752e-05 - tp: 5303.0000 - fp: 1007.0000 - tn: 24362.0000 - fn: 1316.0000 - accuracy: 0.9274 - precision: 0.8404 - recall: 0.8012 - auc: 0.9529 - val_loss: 0.2573 - val_tp: 1327.0000 - val_fp: 289.0000 - val_tn: 6114.0000 - val_fn: 267.0000 - val_accuracy: 0.9305 - val_precision: 0.8212 - val_recall: 0.8325 - val_auc: 0.9673\n",
      "Epoch 71/100\n",
      "63/63 [==============================] - 0s 2ms/step - loss: 1.4720e-05 - tp: 5322.0000 - fp: 1045.0000 - tn: 24324.0000 - fn: 1297.0000 - accuracy: 0.9268 - precision: 0.8359 - recall: 0.8040 - auc: 0.9552 - val_loss: 0.2528 - val_tp: 1328.0000 - val_fp: 272.0000 - val_tn: 6131.0000 - val_fn: 266.0000 - val_accuracy: 0.9327 - val_precision: 0.8300 - val_recall: 0.8331 - val_auc: 0.9695\n",
      "Epoch 72/100\n",
      "63/63 [==============================] - 0s 2ms/step - loss: 1.4544e-05 - tp: 5367.0000 - fp: 1031.0000 - tn: 24338.0000 - fn: 1252.0000 - accuracy: 0.9286 - precision: 0.8389 - recall: 0.8108 - auc: 0.9549 - val_loss: 0.2498 - val_tp: 1327.0000 - val_fp: 272.0000 - val_tn: 6131.0000 - val_fn: 267.0000 - val_accuracy: 0.9326 - val_precision: 0.8299 - val_recall: 0.8325 - val_auc: 0.9684\n",
      "Epoch 73/100\n",
      "63/63 [==============================] - 0s 2ms/step - loss: 1.4447e-05 - tp: 5355.0000 - fp: 1038.0000 - tn: 24331.0000 - fn: 1264.0000 - accuracy: 0.9280 - precision: 0.8376 - recall: 0.8090 - auc: 0.9557 - val_loss: 0.2486 - val_tp: 1328.0000 - val_fp: 269.0000 - val_tn: 6134.0000 - val_fn: 266.0000 - val_accuracy: 0.9331 - val_precision: 0.8316 - val_recall: 0.8331 - val_auc: 0.9695\n",
      "Epoch 74/100\n",
      "63/63 [==============================] - 0s 2ms/step - loss: 1.4388e-05 - tp: 5340.0000 - fp: 1011.0000 - tn: 24358.0000 - fn: 1279.0000 - accuracy: 0.9284 - precision: 0.8408 - recall: 0.8068 - auc: 0.9552 - val_loss: 0.2493 - val_tp: 1334.0000 - val_fp: 272.0000 - val_tn: 6131.0000 - val_fn: 260.0000 - val_accuracy: 0.9335 - val_precision: 0.8306 - val_recall: 0.8369 - val_auc: 0.9698\n",
      "Epoch 75/100\n",
      "63/63 [==============================] - 0s 2ms/step - loss: 1.4427e-05 - tp: 5330.0000 - fp: 999.0000 - tn: 24370.0000 - fn: 1289.0000 - accuracy: 0.9285 - precision: 0.8422 - recall: 0.8053 - auc: 0.9565 - val_loss: 0.2530 - val_tp: 1342.0000 - val_fp: 275.0000 - val_tn: 6128.0000 - val_fn: 252.0000 - val_accuracy: 0.9341 - val_precision: 0.8299 - val_recall: 0.8419 - val_auc: 0.9719\n",
      "Epoch 76/100\n",
      "63/63 [==============================] - 0s 2ms/step - loss: 1.4376e-05 - tp: 5360.0000 - fp: 1055.0000 - tn: 24314.0000 - fn: 1259.0000 - accuracy: 0.9277 - precision: 0.8355 - recall: 0.8098 - auc: 0.9563 - val_loss: 0.2470 - val_tp: 1335.0000 - val_fp: 262.0000 - val_tn: 6141.0000 - val_fn: 259.0000 - val_accuracy: 0.9349 - val_precision: 0.8359 - val_recall: 0.8375 - val_auc: 0.9724\n",
      "Epoch 77/100\n",
      "63/63 [==============================] - 0s 2ms/step - loss: 1.4121e-05 - tp: 5372.0000 - fp: 979.0000 - tn: 24390.0000 - fn: 1247.0000 - accuracy: 0.9304 - precision: 0.8459 - recall: 0.8116 - auc: 0.9585 - val_loss: 0.2487 - val_tp: 1341.0000 - val_fp: 272.0000 - val_tn: 6131.0000 - val_fn: 253.0000 - val_accuracy: 0.9344 - val_precision: 0.8314 - val_recall: 0.8413 - val_auc: 0.9720\n",
      "Epoch 78/100\n",
      "63/63 [==============================] - 0s 2ms/step - loss: 1.4179e-05 - tp: 5361.0000 - fp: 950.0000 - tn: 24419.0000 - fn: 1258.0000 - accuracy: 0.9310 - precision: 0.8495 - recall: 0.8099 - auc: 0.9590 - val_loss: 0.2467 - val_tp: 1344.0000 - val_fp: 285.0000 - val_tn: 6118.0000 - val_fn: 250.0000 - val_accuracy: 0.9331 - val_precision: 0.8250 - val_recall: 0.8432 - val_auc: 0.9709\n",
      "Epoch 79/100\n",
      "63/63 [==============================] - 0s 2ms/step - loss: 1.3997e-05 - tp: 5396.0000 - fp: 1029.0000 - tn: 24340.0000 - fn: 1223.0000 - accuracy: 0.9296 - precision: 0.8398 - recall: 0.8152 - auc: 0.9582 - val_loss: 0.2425 - val_tp: 1337.0000 - val_fp: 271.0000 - val_tn: 6132.0000 - val_fn: 257.0000 - val_accuracy: 0.9340 - val_precision: 0.8315 - val_recall: 0.8388 - val_auc: 0.9709\n",
      "Epoch 80/100\n",
      "63/63 [==============================] - 0s 2ms/step - loss: 1.4008e-05 - tp: 5378.0000 - fp: 981.0000 - tn: 24388.0000 - fn: 1241.0000 - accuracy: 0.9305 - precision: 0.8457 - recall: 0.8125 - auc: 0.9594 - val_loss: 0.2390 - val_tp: 1335.0000 - val_fp: 261.0000 - val_tn: 6142.0000 - val_fn: 259.0000 - val_accuracy: 0.9350 - val_precision: 0.8365 - val_recall: 0.8375 - val_auc: 0.9727\n",
      "Epoch 81/100\n",
      "63/63 [==============================] - 0s 2ms/step - loss: 1.4015e-05 - tp: 5410.0000 - fp: 953.0000 - tn: 24416.0000 - fn: 1209.0000 - accuracy: 0.9324 - precision: 0.8502 - recall: 0.8173 - auc: 0.9589 - val_loss: 0.2407 - val_tp: 1340.0000 - val_fp: 278.0000 - val_tn: 6125.0000 - val_fn: 254.0000 - val_accuracy: 0.9335 - val_precision: 0.8282 - val_recall: 0.8407 - val_auc: 0.9722\n",
      "Epoch 82/100\n",
      "63/63 [==============================] - 0s 2ms/step - loss: 1.3925e-05 - tp: 5372.0000 - fp: 954.0000 - tn: 24415.0000 - fn: 1247.0000 - accuracy: 0.9312 - precision: 0.8492 - recall: 0.8116 - auc: 0.9597 - val_loss: 0.2355 - val_tp: 1339.0000 - val_fp: 252.0000 - val_tn: 6151.0000 - val_fn: 255.0000 - val_accuracy: 0.9366 - val_precision: 0.8416 - val_recall: 0.8400 - val_auc: 0.9740\n",
      "Epoch 83/100\n",
      "63/63 [==============================] - 0s 2ms/step - loss: 1.3753e-05 - tp: 5403.0000 - fp: 1003.0000 - tn: 24366.0000 - fn: 1216.0000 - accuracy: 0.9306 - precision: 0.8434 - recall: 0.8163 - auc: 0.9605 - val_loss: 0.2411 - val_tp: 1346.0000 - val_fp: 280.0000 - val_tn: 6123.0000 - val_fn: 248.0000 - val_accuracy: 0.9340 - val_precision: 0.8278 - val_recall: 0.8444 - val_auc: 0.9737\n",
      "Epoch 84/100\n",
      "63/63 [==============================] - 0s 2ms/step - loss: 1.3749e-05 - tp: 5411.0000 - fp: 998.0000 - tn: 24371.0000 - fn: 1208.0000 - accuracy: 0.9310 - precision: 0.8443 - recall: 0.8175 - auc: 0.9604 - val_loss: 0.2416 - val_tp: 1352.0000 - val_fp: 274.0000 - val_tn: 6129.0000 - val_fn: 242.0000 - val_accuracy: 0.9355 - val_precision: 0.8315 - val_recall: 0.8482 - val_auc: 0.9743\n",
      "Epoch 85/100\n",
      "63/63 [==============================] - 0s 2ms/step - loss: 1.3688e-05 - tp: 5398.0000 - fp: 987.0000 - tn: 24382.0000 - fn: 1221.0000 - accuracy: 0.9310 - precision: 0.8454 - recall: 0.8155 - auc: 0.9623 - val_loss: 0.2471 - val_tp: 1365.0000 - val_fp: 289.0000 - val_tn: 6114.0000 - val_fn: 229.0000 - val_accuracy: 0.9352 - val_precision: 0.8253 - val_recall: 0.8563 - val_auc: 0.9744\n",
      "Epoch 86/100\n",
      "63/63 [==============================] - 0s 2ms/step - loss: 1.3485e-05 - tp: 5453.0000 - fp: 976.0000 - tn: 24393.0000 - fn: 1166.0000 - accuracy: 0.9330 - precision: 0.8482 - recall: 0.8238 - auc: 0.9620 - val_loss: 0.2383 - val_tp: 1352.0000 - val_fp: 267.0000 - val_tn: 6136.0000 - val_fn: 242.0000 - val_accuracy: 0.9364 - val_precision: 0.8351 - val_recall: 0.8482 - val_auc: 0.9759\n",
      "Epoch 87/100\n",
      "63/63 [==============================] - 0s 2ms/step - loss: 1.3512e-05 - tp: 5475.0000 - fp: 1014.0000 - tn: 24355.0000 - fn: 1144.0000 - accuracy: 0.9325 - precision: 0.8437 - recall: 0.8272 - auc: 0.9625 - val_loss: 0.2388 - val_tp: 1352.0000 - val_fp: 279.0000 - val_tn: 6124.0000 - val_fn: 242.0000 - val_accuracy: 0.9349 - val_precision: 0.8289 - val_recall: 0.8482 - val_auc: 0.9748\n",
      "Epoch 88/100\n",
      "63/63 [==============================] - 0s 2ms/step - loss: 1.3364e-05 - tp: 5453.0000 - fp: 1025.0000 - tn: 24344.0000 - fn: 1166.0000 - accuracy: 0.9315 - precision: 0.8418 - recall: 0.8238 - auc: 0.9632 - val_loss: 0.2356 - val_tp: 1353.0000 - val_fp: 270.0000 - val_tn: 6133.0000 - val_fn: 241.0000 - val_accuracy: 0.9361 - val_precision: 0.8336 - val_recall: 0.8488 - val_auc: 0.9754\n",
      "Epoch 89/100\n",
      "63/63 [==============================] - 0s 2ms/step - loss: 1.3462e-05 - tp: 5432.0000 - fp: 947.0000 - tn: 24422.0000 - fn: 1187.0000 - accuracy: 0.9333 - precision: 0.8515 - recall: 0.8207 - auc: 0.9634 - val_loss: 0.2299 - val_tp: 1348.0000 - val_fp: 279.0000 - val_tn: 6124.0000 - val_fn: 246.0000 - val_accuracy: 0.9344 - val_precision: 0.8285 - val_recall: 0.8457 - val_auc: 0.9741\n",
      "Epoch 90/100\n",
      "63/63 [==============================] - 0s 2ms/step - loss: 1.3426e-05 - tp: 5465.0000 - fp: 1001.0000 - tn: 24368.0000 - fn: 1154.0000 - accuracy: 0.9326 - precision: 0.8452 - recall: 0.8257 - auc: 0.9627 - val_loss: 0.2312 - val_tp: 1355.0000 - val_fp: 256.0000 - val_tn: 6147.0000 - val_fn: 239.0000 - val_accuracy: 0.9381 - val_precision: 0.8411 - val_recall: 0.8501 - val_auc: 0.9756\n",
      "Epoch 91/100\n",
      "63/63 [==============================] - 0s 2ms/step - loss: 1.3375e-05 - tp: 5427.0000 - fp: 959.0000 - tn: 24410.0000 - fn: 1192.0000 - accuracy: 0.9328 - precision: 0.8498 - recall: 0.8199 - auc: 0.9640 - val_loss: 0.2296 - val_tp: 1354.0000 - val_fp: 256.0000 - val_tn: 6147.0000 - val_fn: 240.0000 - val_accuracy: 0.9380 - val_precision: 0.8410 - val_recall: 0.8494 - val_auc: 0.9762\n",
      "Epoch 92/100\n",
      "63/63 [==============================] - 0s 2ms/step - loss: 1.3378e-05 - tp: 5446.0000 - fp: 982.0000 - tn: 24387.0000 - fn: 1173.0000 - accuracy: 0.9326 - precision: 0.8472 - recall: 0.8228 - auc: 0.9634 - val_loss: 0.2432 - val_tp: 1374.0000 - val_fp: 307.0000 - val_tn: 6096.0000 - val_fn: 220.0000 - val_accuracy: 0.9341 - val_precision: 0.8174 - val_recall: 0.8620 - val_auc: 0.9749\n",
      "Epoch 93/100\n",
      "63/63 [==============================] - 0s 2ms/step - loss: 1.3139e-05 - tp: 5482.0000 - fp: 996.0000 - tn: 24373.0000 - fn: 1137.0000 - accuracy: 0.9333 - precision: 0.8462 - recall: 0.8282 - auc: 0.9653 - val_loss: 0.2353 - val_tp: 1368.0000 - val_fp: 283.0000 - val_tn: 6120.0000 - val_fn: 226.0000 - val_accuracy: 0.9364 - val_precision: 0.8286 - val_recall: 0.8582 - val_auc: 0.9754\n",
      "Epoch 94/100\n",
      "63/63 [==============================] - 0s 2ms/step - loss: 1.3187e-05 - tp: 5462.0000 - fp: 971.0000 - tn: 24398.0000 - fn: 1157.0000 - accuracy: 0.9335 - precision: 0.8491 - recall: 0.8252 - auc: 0.9637 - val_loss: 0.2271 - val_tp: 1354.0000 - val_fp: 270.0000 - val_tn: 6133.0000 - val_fn: 240.0000 - val_accuracy: 0.9362 - val_precision: 0.8337 - val_recall: 0.8494 - val_auc: 0.9756\n",
      "Epoch 95/100\n",
      "63/63 [==============================] - 0s 2ms/step - loss: 1.3104e-05 - tp: 5499.0000 - fp: 987.0000 - tn: 24382.0000 - fn: 1120.0000 - accuracy: 0.9341 - precision: 0.8478 - recall: 0.8308 - auc: 0.9649 - val_loss: 0.2185 - val_tp: 1345.0000 - val_fp: 238.0000 - val_tn: 6165.0000 - val_fn: 249.0000 - val_accuracy: 0.9391 - val_precision: 0.8497 - val_recall: 0.8438 - val_auc: 0.9770\n",
      "Epoch 96/100\n",
      "63/63 [==============================] - 0s 2ms/step - loss: 1.3035e-05 - tp: 5477.0000 - fp: 918.0000 - tn: 24451.0000 - fn: 1142.0000 - accuracy: 0.9356 - precision: 0.8565 - recall: 0.8275 - auc: 0.9654 - val_loss: 0.2360 - val_tp: 1377.0000 - val_fp: 288.0000 - val_tn: 6115.0000 - val_fn: 217.0000 - val_accuracy: 0.9369 - val_precision: 0.8270 - val_recall: 0.8639 - val_auc: 0.9758\n",
      "Epoch 97/100\n",
      "63/63 [==============================] - 0s 2ms/step - loss: 1.3156e-05 - tp: 5479.0000 - fp: 964.0000 - tn: 24405.0000 - fn: 1140.0000 - accuracy: 0.9342 - precision: 0.8504 - recall: 0.8278 - auc: 0.9642 - val_loss: 0.2317 - val_tp: 1375.0000 - val_fp: 281.0000 - val_tn: 6122.0000 - val_fn: 219.0000 - val_accuracy: 0.9375 - val_precision: 0.8303 - val_recall: 0.8626 - val_auc: 0.9761\n",
      "Epoch 98/100\n",
      "63/63 [==============================] - 0s 2ms/step - loss: 1.2877e-05 - tp: 5502.0000 - fp: 979.0000 - tn: 24390.0000 - fn: 1117.0000 - accuracy: 0.9345 - precision: 0.8489 - recall: 0.8312 - auc: 0.9665 - val_loss: 0.2262 - val_tp: 1370.0000 - val_fp: 277.0000 - val_tn: 6126.0000 - val_fn: 224.0000 - val_accuracy: 0.9374 - val_precision: 0.8318 - val_recall: 0.8595 - val_auc: 0.9762\n",
      "Epoch 99/100\n",
      "63/63 [==============================] - 0s 2ms/step - loss: 1.2894e-05 - tp: 5496.0000 - fp: 995.0000 - tn: 24374.0000 - fn: 1123.0000 - accuracy: 0.9338 - precision: 0.8467 - recall: 0.8303 - auc: 0.9652 - val_loss: 0.2219 - val_tp: 1363.0000 - val_fp: 265.0000 - val_tn: 6138.0000 - val_fn: 231.0000 - val_accuracy: 0.9380 - val_precision: 0.8372 - val_recall: 0.8551 - val_auc: 0.9764\n",
      "Epoch 100/100\n",
      "63/63 [==============================] - 0s 2ms/step - loss: 1.2776e-05 - tp: 5480.0000 - fp: 954.0000 - tn: 24415.0000 - fn: 1139.0000 - accuracy: 0.9346 - precision: 0.8517 - recall: 0.8279 - auc: 0.9661 - val_loss: 0.2181 - val_tp: 1358.0000 - val_fp: 260.0000 - val_tn: 6143.0000 - val_fn: 236.0000 - val_accuracy: 0.9380 - val_precision: 0.8393 - val_recall: 0.8519 - val_auc: 0.9766\n"
     ]
    }
   ],
   "source": [
    "results = model.fit(\n",
    "    train_set,\n",
    "    train_labels,\n",
    "    batch_size=BATCH_SIZE,\n",
    "    epochs=EPOCHS,\n",
    "    callbacks = [early_stopping],\n",
    "    validation_data=(test_set, test_labels),\n",
    "    class_weight=class_weight)"
   ]
  },
  {
   "cell_type": "code",
   "execution_count": 14,
   "id": "099f7675",
   "metadata": {},
   "outputs": [
    {
     "data": {
      "image/png": "[encoded data removed]",
      "text/plain": [
       "<Figure size 864x720 with 4 Axes>"
      ]
     },
     "metadata": {
      "needs_background": "light"
     },
     "output_type": "display_data"
    }
   ],
   "source": [
    "#Visualize model metrics\n",
    "mpl.rcParams['figure.figsize'] = (12, 10)\n",
    "colors = plt.rcParams['axes.prop_cycle'].by_key()['color']\n",
    "\n",
    "def plot_metrics(history):\n",
    "  metrics =  ['loss', 'auc', 'precision', 'recall']\n",
    "  for n, metric in enumerate(metrics):\n",
    "    name = metric.replace(\"_\",\" \").capitalize()\n",
    "    plt.subplot(2,2,n+1)\n",
    "    plt.plot(history.epoch,  history.history[metric], color=colors[0], label='Train')\n",
    "    plt.plot(history.epoch, history.history['val_'+metric],\n",
    "             color=colors[0], linestyle=\"--\", label='Val')\n",
    "    plt.xlabel('Epoch')\n",
    "    plt.ylabel(name)\n",
    "    if metric == 'loss':\n",
    "      plt.ylim([0, plt.ylim()[1]])\n",
    "    elif metric == 'auc':\n",
    "      plt.ylim([0.8,1])\n",
    "    else:\n",
    "      plt.ylim([0,1])\n",
    "\n",
    "    plt.legend()\n",
    "\n",
    "plot_metrics(results)"
   ]
  },
  {
   "cell_type": "code",
   "execution_count": 15,
   "id": "f3893d88",
   "metadata": {},
   "outputs": [
    {
     "name": "stdout",
     "output_type": "stream",
     "text": [
      "250/250 [==============================] - 0s 690us/step\n"
     ]
    }
   ],
   "source": [
    "#Print a confusion matrix\n",
    "predicted = model.predict(test_set)\n",
    "\n",
    "y_pred = []\n",
    "\n",
    "for i in predicted.tolist():\n",
    "  y_pred.append(int(round(i[0])))"
   ]
  },
  {
   "cell_type": "code",
   "execution_count": 16,
   "id": "fead47cb",
   "metadata": {},
   "outputs": [
    {
     "name": "stdout",
     "output_type": "stream",
     "text": [
      "[[6143  260]\n",
      " [ 236 1358]]\n"
     ]
    }
   ],
   "source": [
    "cm = confusion_matrix(test_labels.values, y_pred)\n",
    "print(cm)"
   ]
  },
  {
   "cell_type": "code",
   "execution_count": 17,
   "id": "dab51211",
   "metadata": {},
   "outputs": [],
   "source": [
    "def plot_confusion_matrix(cm, classes,\n",
    "                          normalize=False,\n",
    "                          title='Confusion matrix',\n",
    "                          cmap=plt.cm.Blues):\n",
    "    \"\"\"\n",
    "    This function prints and plots the confusion matrix.\n",
    "    Normalization can be applied by setting `normalize=True`.\n",
    "    \"\"\"\n",
    "    plt.imshow(cm, interpolation='nearest', cmap=cmap)\n",
    "    plt.title(title)\n",
    "    plt.colorbar()\n",
    "    tick_marks = np.arange(len(classes))\n",
    "    plt.xticks(tick_marks, classes, rotation=45)\n",
    "    plt.yticks(tick_marks, classes)\n",
    "\n",
    "    if normalize:\n",
    "        cm = np.round(cm.astype('float') / cm.sum(axis=1)[:, np.newaxis], 3)\n",
    "\n",
    "    thresh = cm.max() / 2.\n",
    "    for i, j in itertools.product(range(cm.shape[0]), range(cm.shape[1])):\n",
    "        plt.text(j, i, cm[i, j],\n",
    "                 horizontalalignment=\"center\",\n",
    "                 color=\"white\" if cm[i, j] > thresh else \"black\")\n",
    "\n",
    "    plt.tight_layout()\n",
    "    plt.ylabel('True label')\n",
    "    plt.xlabel('Predicted label')"
   ]
  },
  {
   "cell_type": "code",
   "execution_count": 18,
   "id": "d467eb94",
   "metadata": {},
   "outputs": [
    {
     "data": {
      "image/png": "[encoded data removed]",
      "text/plain": [
       "<Figure size 864x720 with 2 Axes>"
      ]
     },
     "metadata": {
      "needs_background": "light"
     },
     "output_type": "display_data"
    }
   ],
   "source": [
    "classes = ['not fraud', 'fraud']\n",
    "plot_confusion_matrix(cm, classes, normalize=True)"
   ]
  },
  {
   "cell_type": "markdown",
   "id": "47c30afc",
   "metadata": {},
   "source": [
    "# Using the Explainable AI SDK "
   ]
  },
  {
   "cell_type": "code",
   "execution_count": 19,
   "id": "6f93127c",
   "metadata": {},
   "outputs": [
    {
     "name": "stdout",
     "output_type": "stream",
     "text": [
      "INFO:tensorflow:Assets written to: fraud_model\\assets\n"
     ]
    }
   ],
   "source": [
    "#Export trained model\n",
    "model_dir = 'fraud_model'\n",
    "tf.saved_model.save(model, model_dir)"
   ]
  },
  {
   "cell_type": "code",
   "execution_count": 20,
   "id": "c44acc59",
   "metadata": {},
   "outputs": [
    {
     "name": "stdout",
     "output_type": "stream",
     "text": [
      "{'outputs': OrderedDict([('dense_1', {'output_tensor_name': 'dense_1'})]), 'inputs': OrderedDict([('dense_input', {'input_tensor_name': 'dense_input', 'encoding': 'identity', 'modality': 'numeric'})]), 'framework': 'tensorflow2', 'tags': ['explainable_ai_sdk']}\n"
     ]
    }
   ],
   "source": [
    "#Get explanation metadata with the SDK\n",
    "model_builder = SavedModelMetadataBuilder(model_dir)\n",
    "metadata = model_builder.get_metadata()\n",
    "print(metadata)"
   ]
  },
  {
   "cell_type": "code",
   "execution_count": 21,
   "id": "6973c7ce",
   "metadata": {},
   "outputs": [
    {
     "name": "stderr",
     "output_type": "stream",
     "text": [
      "C:\\Users\\jhose\\AppData\\Roaming\\Python\\Python39\\site-packages\\sklearn\\base.py:450: UserWarning: X does not have valid feature names, but StandardScaler was fitted with feature names\n",
      "  warnings.warn(\n"
     ]
    }
   ],
   "source": [
    "#Specifying our model's baseline\n",
    "not_fraud_sample = not_fraud_sample.drop(columns=['nameOrig', 'nameDest', 'isFlaggedFraud', 'isFraud'])\n",
    "\n",
    "baseline = scaler.transform(not_fraud_sample.values)\n",
    "baseline = np.clip(baseline, -5, 5)\n",
    "baseline_values = np.median(baseline, axis=0)"
   ]
  },
  {
   "cell_type": "code",
   "execution_count": 22,
   "id": "177714c6",
   "metadata": {},
   "outputs": [],
   "source": [
    "input_name = list(metadata['inputs'])[0]\n",
    "model_builder.set_numeric_metadata(input_name, input_baselines=[baseline_values.tolist()], index_feature_mapping=df.columns.tolist()[:6])\n",
    "model_builder.save_metadata(model_dir)"
   ]
  },
  {
   "cell_type": "markdown",
   "id": "80cad17a",
   "metadata": {},
   "source": [
    "# Thank you!"
   ]
  }
 ],
 "metadata": {
  "kernelspec": {
   "display_name": "Python 3 (ipykernel)",
   "language": "python",
   "name": "python3"
  },
  "language_info": {
   "codemirror_mode": {
    "name": "ipython",
    "version": 3
   },
   "file_extension": ".py",
   "mimetype": "text/x-python",
   "name": "python",
   "nbconvert_exporter": "python",
   "pygments_lexer": "ipython3",
   "version": "3.9.7"
  }
 },
 "nbformat": 4,
 "nbformat_minor": 5
}
